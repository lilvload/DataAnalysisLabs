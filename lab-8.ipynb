{
 "cells": [
  {
   "cell_type": "markdown",
   "id": "709019dc-12d9-4fd3-aa70-e18e6295ac58",
   "metadata": {},
   "source": [
    "### Імпорт бібліотек"
   ]
  },
  {
   "cell_type": "code",
   "execution_count": 1,
   "id": "ab06144b-9c7a-4615-a2c4-b4bdf140cce7",
   "metadata": {},
   "outputs": [],
   "source": [
    "import numpy as np\n",
    "import matplotlib.pyplot as plt"
   ]
  },
  {
   "cell_type": "markdown",
   "id": "f5e71f65-b34e-426b-a962-1ae0935084ee",
   "metadata": {},
   "source": [
    "### Зчитування та очищення даних"
   ]
  },
  {
   "cell_type": "code",
   "execution_count": 20,
   "id": "129c5dca-2e6f-46e4-b05a-ad12300808e7",
   "metadata": {},
   "outputs": [],
   "source": [
    "data = []\n",
    "with open(\"data1.txt\", \"r\", encoding=\"utf-8\") as file:\n",
    "    for line in file:\n",
    "        if not line.strip() or '-' in line:\n",
    "            continue\n",
    "        try:\n",
    "            row = [float(x.replace(',', '.')) for x in line.strip().split()]\n",
    "            if len(row) >= 12:\n",
    "                data.append(row[:12])\n",
    "        except:\n",
    "            continue\n",
    "\n",
    "X = np.array(data)"
   ]
  },
  {
   "cell_type": "markdown",
   "id": "e18003ab-1b77-44ce-8d90-18eec0a29722",
   "metadata": {},
   "source": [
    "### Нормалізація (стандартизація)"
   ]
  },
  {
   "cell_type": "code",
   "execution_count": 22,
   "id": "c5979005-690c-43c5-8fd6-7e483bcf5938",
   "metadata": {},
   "outputs": [],
   "source": [
    "X_mean = np.mean(X, axis=0)\n",
    "X_std = np.std(X, axis=0)\n",
    "X_norm = (X - X_mean) / X_std"
   ]
  },
  {
   "cell_type": "markdown",
   "id": "f223922d-e1c8-467e-aed2-d26a03915264",
   "metadata": {},
   "source": [
    "### Кореляційна матриця"
   ]
  },
  {
   "cell_type": "code",
   "execution_count": 23,
   "id": "60ba7a45-1bb5-49f9-8d91-113e91aad7ca",
   "metadata": {},
   "outputs": [
    {
     "name": "stdout",
     "output_type": "stream",
     "text": [
      "Кореляційна матриця:\n",
      "[[1.    0.994 0.989 0.98  0.975 0.975 0.979 0.974 0.976 0.978 0.965 0.978]\n",
      " [0.994 1.    0.996 0.989 0.984 0.985 0.987 0.986 0.985 0.983 0.974 0.983]\n",
      " [0.989 0.996 1.    0.995 0.99  0.99  0.992 0.992 0.99  0.988 0.979 0.982]\n",
      " [0.98  0.989 0.995 1.    0.993 0.994 0.994 0.996 0.993 0.988 0.981 0.984]\n",
      " [0.975 0.984 0.99  0.993 1.    0.997 0.994 0.994 0.993 0.992 0.981 0.98 ]\n",
      " [0.975 0.985 0.99  0.994 0.997 1.    0.997 0.997 0.995 0.99  0.983 0.983]\n",
      " [0.979 0.987 0.992 0.994 0.994 0.997 1.    0.997 0.994 0.991 0.98  0.983]\n",
      " [0.974 0.986 0.992 0.996 0.994 0.997 0.997 1.    0.996 0.99  0.982 0.982]\n",
      " [0.976 0.985 0.99  0.993 0.993 0.995 0.994 0.996 1.    0.994 0.99  0.989]\n",
      " [0.978 0.983 0.988 0.988 0.992 0.99  0.991 0.99  0.994 1.    0.991 0.987]\n",
      " [0.965 0.974 0.979 0.981 0.981 0.983 0.98  0.982 0.99  0.991 1.    0.991]\n",
      " [0.978 0.983 0.982 0.984 0.98  0.983 0.983 0.982 0.989 0.987 0.991 1.   ]]\n"
     ]
    }
   ],
   "source": [
    "correlation_matrix = np.corrcoef(X_norm, rowvar=False)\n",
    "print(\"Кореляційна матриця:\")\n",
    "print(np.round(correlation_matrix, 3))"
   ]
  },
  {
   "cell_type": "markdown",
   "id": "88f3870d-15c1-4afa-a997-fca5e0ade31f",
   "metadata": {},
   "source": [
    "### Перевірка відмінності від одиничної матриці"
   ]
  },
  {
   "cell_type": "code",
   "execution_count": 24,
   "id": "29e356cc-3be2-4b91-bce0-2266626b1f74",
   "metadata": {},
   "outputs": [
    {
     "name": "stdout",
     "output_type": "stream",
     "text": [
      "Статистика d = 5402.51\n"
     ]
    }
   ],
   "source": [
    "N = X.shape[0]\n",
    "R = correlation_matrix.copy()\n",
    "np.fill_diagonal(R, 0)\n",
    "d = N * np.sum(R**2)\n",
    "print(f\"Статистика d = {d:.2f}\")"
   ]
  },
  {
   "cell_type": "markdown",
   "id": "b72ce9e2-4785-4dae-8705-a0793ad97679",
   "metadata": {},
   "source": [
    "### Ковариаційна матриця та PCA"
   ]
  },
  {
   "cell_type": "code",
   "execution_count": 25,
   "id": "00f8e721-70d0-4435-83af-12831406432f",
   "metadata": {},
   "outputs": [],
   "source": [
    "cov_matrix = np.cov(X_norm, rowvar=False)\n",
    "eigen_values, eigen_vectors = np.linalg.eigh(cov_matrix)\n",
    "sorted_idx = np.argsort(eigen_values)[::-1]\n",
    "eigen_values = eigen_values[sorted_idx]\n",
    "eigen_vectors = eigen_vectors[:, sorted_idx]"
   ]
  },
  {
   "cell_type": "markdown",
   "id": "c2809019-33c9-4183-9d86-323aebd132a6",
   "metadata": {},
   "source": [
    "### Проекція (матриця рахунків)"
   ]
  },
  {
   "cell_type": "code",
   "execution_count": 26,
   "id": "6ea960c8-ef5a-455b-acac-7187913a3dc0",
   "metadata": {},
   "outputs": [
    {
     "name": "stdout",
     "output_type": "stream",
     "text": [
      "Матриця рахунків (перші 10 об'єктів, 5 компонент):\n",
      "[[-3.573e+00  6.600e-02 -2.350e-01  4.100e-02 -2.900e-02]\n",
      " [-3.769e+00  6.400e-02 -2.040e-01  4.000e-03 -1.500e-02]\n",
      " [-3.787e+00  1.130e-01 -2.480e-01 -9.000e-03  2.600e-02]\n",
      " [-3.756e+00  8.200e-02 -2.470e-01  2.500e-02 -2.400e-02]\n",
      " [-3.629e+00  6.000e-03 -1.970e-01 -2.000e-03 -9.600e-02]\n",
      " [-3.755e+00  1.010e-01 -1.700e-02 -7.600e-02  3.200e-02]\n",
      " [-2.983e+00  1.800e-01 -1.900e-01  2.000e-02 -6.100e-02]\n",
      " [-3.704e+00 -3.550e-01  6.900e-02 -3.300e-02 -1.270e-01]\n",
      " [-3.919e+00 -4.100e-02 -1.900e-02 -1.500e-02  1.000e-02]\n",
      " [-3.842e+00 -5.100e-02  1.230e-01 -6.200e-02  5.400e-02]]\n"
     ]
    }
   ],
   "source": [
    "T = X_norm @ eigen_vectors\n",
    "\n",
    "print(\"Матриця рахунків (перші 10 об'єктів, 5 компонент):\")\n",
    "print(np.round(T[:10, :5], 3))"
   ]
  },
  {
   "cell_type": "markdown",
   "id": "95580942-7f9e-4c8c-a113-c7814ad0bcb4",
   "metadata": {},
   "source": [
    "### Матриця навантажень"
   ]
  },
  {
   "cell_type": "code",
   "execution_count": 27,
   "id": "8c387ff1-4534-44e2-be47-e6f0d4e208a5",
   "metadata": {},
   "outputs": [
    {
     "name": "stdout",
     "output_type": "stream",
     "text": [
      "Матриця навантажень (перші 5 ознак, 5 компонент):\n",
      "[[ 0.286 -0.65   0.211  0.27   0.233]\n",
      " [ 0.288 -0.449  0.068 -0.14  -0.178]\n",
      " [ 0.289 -0.257 -0.096 -0.076 -0.494]\n",
      " [ 0.289 -0.012 -0.212 -0.351 -0.234]\n",
      " [ 0.289  0.139 -0.277  0.394  0.179]]\n"
     ]
    }
   ],
   "source": [
    "P = eigen_vectors\n",
    "\n",
    "print(\"Матриця навантажень (перші 5 ознак, 5 компонент):\")\n",
    "print(np.round(P[:5, :5], 3))"
   ]
  },
  {
   "cell_type": "markdown",
   "id": "bf09c12d-dc0b-41b6-be70-5f5b1b551da1",
   "metadata": {},
   "source": [
    "### Реконструкція і матриця помилок"
   ]
  },
  {
   "cell_type": "code",
   "execution_count": 28,
   "id": "139bb6b8-2b2b-4c2f-8678-cf52f5f97161",
   "metadata": {},
   "outputs": [
    {
     "name": "stdout",
     "output_type": "stream",
     "text": [
      "Матриця помилок (перші 10 об'єктів, 5 компонент):\n",
      "[[ 0. -0. -0. -0. -0.]\n",
      " [ 0. -0. -0. -0. -0.]\n",
      " [ 0. -0. -0. -0. -0.]\n",
      " [ 0. -0. -0. -0. -0.]\n",
      " [ 0. -0. -0. -0. -0.]\n",
      " [ 0. -0. -0. -0. -0.]\n",
      " [ 0. -0. -0. -0. -0.]\n",
      " [ 0. -0. -0. -0. -0.]\n",
      " [ 0. -0. -0. -0. -0.]\n",
      " [ 0. -0. -0. -0. -0.]]\n"
     ]
    }
   ],
   "source": [
    "X_reconstructed = T @ P.T\n",
    "E = X_norm - X_reconstructed\n",
    "\n",
    "print(\"Матриця помилок (перші 10 об'єктів, 5 компонент):\")\n",
    "print(np.round(E[:10, :5], 3))"
   ]
  },
  {
   "cell_type": "markdown",
   "id": "5dc1f90f-21fc-487c-878b-aa9c3826e3c5",
   "metadata": {},
   "source": [
    "### Частка дисперсії та аналіз компонент"
   ]
  },
  {
   "cell_type": "code",
   "execution_count": 29,
   "id": "eeafe4f0-d2b3-4627-970e-9ebaa7f4d9db",
   "metadata": {},
   "outputs": [
    {
     "name": "stdout",
     "output_type": "stream",
     "text": [
      "Частка дисперсії по кожній компоненті:\n",
      "PC1: 0.9882 (накопичено: 0.9882)\n",
      "PC2: 0.0046 (накопичено: 0.9928)\n",
      "PC3: 0.0035 (накопичено: 0.9963)\n",
      "PC4: 0.0011 (накопичено: 0.9974)\n",
      "PC5: 0.0008 (накопичено: 0.9982)\n"
     ]
    }
   ],
   "source": [
    "explained_variance = np.var(T, axis=0)\n",
    "explained_ratio = explained_variance / np.sum(explained_variance)\n",
    "cumulative_ratio = np.cumsum(explained_ratio)\n",
    "\n",
    "print(\"Частка дисперсії по кожній компоненті:\")\n",
    "for i in range(5):\n",
    "    print(f\"PC{i+1}: {explained_ratio[i]:.4f} (накопичено: {cumulative_ratio[i]:.4f})\")"
   ]
  },
  {
   "cell_type": "markdown",
   "id": "4ad04b4a-50ff-490b-9ba8-8edbed9f6915",
   "metadata": {},
   "source": [
    "### Перевірка рівності сум дисперсій"
   ]
  },
  {
   "cell_type": "code",
   "execution_count": 33,
   "id": "42e7694d-5c1f-4281-8556-6fe019b743c8",
   "metadata": {},
   "outputs": [
    {
     "name": "stdout",
     "output_type": "stream",
     "text": [
      "Сума дисперсій вхідних нормалізованих ознак: 12.0000\n",
      "Сума дисперсій проекцій (T): 12.0000\n"
     ]
    }
   ],
   "source": [
    "var_X = np.sum(np.var(X_norm, axis=0))\n",
    "var_T = np.sum(np.var(T, axis=0))\n",
    "print(f\"Сума дисперсій вхідних нормалізованих ознак: {var_X:.4f}\")\n",
    "print(f\"Сума дисперсій проекцій (T): {var_T:.4f}\")"
   ]
  },
  {
   "cell_type": "markdown",
   "id": "0eac7053-e85e-47e1-a1b7-b914db2773ab",
   "metadata": {},
   "source": [
    "### Відносна частка розкиду і ковариаційна матриця проекцій"
   ]
  },
  {
   "cell_type": "code",
   "execution_count": 31,
   "id": "407a5aa9-b64e-4201-b638-d3f253972c33",
   "metadata": {},
   "outputs": [
    {
     "name": "stdout",
     "output_type": "stream",
     "text": [
      "\n",
      "Відносна частка дисперсії (перші 5 компонент):\n",
      "PC1: 0.9882\n",
      "PC2: 0.0046\n",
      "PC3: 0.0035\n",
      "PC4: 0.0011\n",
      "PC5: 0.0008\n",
      "\n",
      "Ковариаційна матриця проекцій (перші 5 компонент):\n",
      "[[ 1.21478e+01 -0.00000e+00 -0.00000e+00  0.00000e+00  0.00000e+00]\n",
      " [-0.00000e+00  5.69000e-02  0.00000e+00  0.00000e+00  0.00000e+00]\n",
      " [-0.00000e+00  0.00000e+00  4.27000e-02  0.00000e+00  0.00000e+00]\n",
      " [ 0.00000e+00  0.00000e+00  0.00000e+00  1.34000e-02 -0.00000e+00]\n",
      " [ 0.00000e+00  0.00000e+00  0.00000e+00 -0.00000e+00  9.60000e-03]]\n"
     ]
    }
   ],
   "source": [
    "print(\"\\nВідносна частка дисперсії (перші 5 компонент):\")\n",
    "for i in range(5):\n",
    "    print(f\"PC{i+1}: {explained_ratio[i]:.4f}\")\n",
    "\n",
    "print(\"\\nКовариаційна матриця проекцій (перші 5 компонент):\")\n",
    "print(np.round(np.cov(T, rowvar=False)[:5, :5], 4))"
   ]
  },
  {
   "cell_type": "markdown",
   "id": "76707dc5-ec12-406e-81b7-51df0e01a048",
   "metadata": {},
   "source": [
    "### Діаграма розсіювання для перших 2 головних компонент"
   ]
  },
  {
   "cell_type": "code",
   "execution_count": 32,
   "id": "85da6107-24ff-417e-b61a-0e38fcd23223",
   "metadata": {},
   "outputs": [
    {
     "data": {
      "image/png": "[encoded data removed]",
      "text/plain": [
       "<Figure size 800x600 with 1 Axes>"
      ]
     },
     "metadata": {},
     "output_type": "display_data"
    }
   ],
   "source": [
    "plt.figure(figsize=(8, 6))\n",
    "plt.scatter(T[:, 0], T[:, 1], color='darkgreen')\n",
    "plt.title('Діаграма розсіювання: PC1 vs PC2')\n",
    "plt.xlabel('Перша головна компонента (PC1)')\n",
    "plt.ylabel('Друга головна компонента (PC2)')\n",
    "plt.grid(True)"
   ]
  },
  {
   "cell_type": "code",
   "execution_count": null,
   "id": "73fca6a4-caa2-4142-8442-ae96c37d8488",
   "metadata": {},
   "outputs": [],
   "source": []
  }
 ],
 "metadata": {
  "kernelspec": {
   "display_name": "Python 3 (ipykernel)",
   "language": "python",
   "name": "python3"
  },
  "language_info": {
   "codemirror_mode": {
    "name": "ipython",
    "version": 3
   },
   "file_extension": ".py",
   "mimetype": "text/x-python",
   "name": "python",
   "nbconvert_exporter": "python",
   "pygments_lexer": "ipython3",
   "version": "3.12.7"
  }
 },
 "nbformat": 4,
 "nbformat_minor": 5
}
